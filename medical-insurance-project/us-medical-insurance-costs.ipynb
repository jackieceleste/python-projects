{
 "cells": [
  {
   "cell_type": "markdown",
   "metadata": {},
   "source": [
    "# U.S. Medical Insurance Costs"
   ]
  },
  {
   "cell_type": "code",
   "execution_count": 13,
   "metadata": {},
   "outputs": [],
   "source": [
    "from csv import DictReader"
   ]
  },
  {
   "cell_type": "markdown",
   "metadata": {},
   "source": [
    "The \"insurance.csv\" file contains a dataset with information about medical insurance costs based on a number of factors. There appear to be no missing values. The dataset contains the following columns:\n",
    "- age\n",
    "- sex\n",
    "- bmi\n",
    "- children\n",
    "- smoker\n",
    "- region\n",
    "- charges"
   ]
  },
  {
   "cell_type": "markdown",
   "metadata": {},
   "source": [
    "Create empty lists for each column in insurance.csv"
   ]
  },
  {
   "cell_type": "code",
   "execution_count": 14,
   "metadata": {},
   "outputs": [],
   "source": [
    "ages = []\n",
    "sexes = []\n",
    "bmis = []\n",
    "children = []\n",
    "smoker = []\n",
    "regions = []\n",
    "charges = []"
   ]
  },
  {
   "cell_type": "markdown",
   "metadata": {},
   "source": [
    "This function will populate each list with data from insurance.csv"
   ]
  },
  {
   "cell_type": "code",
   "execution_count": 24,
   "metadata": {},
   "outputs": [],
   "source": [
    "def load_list_data(file, lst, key):\n",
    "    #open and read csv file\n",
    "    with open(file) as csv_file:\n",
    "        csv_reader = DictReader(csv_file)\n",
    "        for row in csv_reader:\n",
    "            lst.append(row[key])"
   ]
  },
  {
   "cell_type": "markdown",
   "metadata": {},
   "source": [
    "Populate the lists with the data from insurance.csv"
   ]
  },
  {
   "cell_type": "code",
   "execution_count": 25,
   "metadata": {},
   "outputs": [],
   "source": [
    "load_list_data('insurance.csv', ages, 'age')\n",
    "load_list_data('insurance.csv', sexes, 'sex')\n",
    "load_list_data('insurance.csv', bmis, 'bmi')\n",
    "load_list_data('insurance.csv', children, 'children')\n",
    "load_list_data('insurance.csv', smoker, 'smoker')\n",
    "load_list_data('insurance.csv', regions, 'region')\n",
    "load_list_data('insurance.csv', charges, 'charges')"
   ]
  },
  {
   "cell_type": "markdown",
   "metadata": {},
   "source": [
    "Find the average age of patients in the dataset"
   ]
  },
  {
   "cell_type": "code",
   "execution_count": null,
   "metadata": {},
   "outputs": [],
   "source": []
  },
  {
   "cell_type": "markdown",
   "metadata": {},
   "source": [
    "Determine which region most of the patients are from"
   ]
  },
  {
   "cell_type": "code",
   "execution_count": null,
   "metadata": {},
   "outputs": [],
   "source": []
  },
  {
   "cell_type": "markdown",
   "metadata": {},
   "source": [
    "Compare the cost of insurance for smokers vs. nonsmokers"
   ]
  },
  {
   "cell_type": "code",
   "execution_count": null,
   "metadata": {},
   "outputs": [],
   "source": []
  },
  {
   "cell_type": "markdown",
   "metadata": {},
   "source": [
    "What is the average age of patients with 1 or more children"
   ]
  },
  {
   "cell_type": "code",
   "execution_count": null,
   "metadata": {},
   "outputs": [],
   "source": []
  }
 ],
 "metadata": {
  "kernelspec": {
   "display_name": "Python 3",
   "language": "python",
   "name": "python3"
  },
  "language_info": {
   "codemirror_mode": {
    "name": "ipython",
    "version": 3
   },
   "file_extension": ".py",
   "mimetype": "text/x-python",
   "name": "python",
   "nbconvert_exporter": "python",
   "pygments_lexer": "ipython3",
   "version": "3.9.1"
  }
 },
 "nbformat": 4,
 "nbformat_minor": 4
}
